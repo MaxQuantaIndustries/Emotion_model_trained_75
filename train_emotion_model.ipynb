import tensorflow as tf
from tensorflow.keras.preprocessing.image import ImageDataGenerator
from tensorflow.keras.models import Model
from tensorflow.keras.layers import GlobalAveragePooling2D, Dense
from tensorflow.keras.callbacks import ModelCheckpoint, EarlyStopping
import os

# ============ PATH SETUP ============
base_dir = r"C:\Users\MAXQUANTA-INDUSTRIES\Desktop\Model Training\dataset"
train_dir = os.path.join(base_dir, "train")
val_dir = os.path.join(base_dir, "test")  # You are using 'test' folder as validation

# ============ PARAMETERS ============
IMG_SIZE = (224, 224)
BATCH_SIZE = 32
EPOCHS = 80
NUM_CLASSES = 7  # angry, happy, neutral, etc.

# ============ DATA AUGMENTATION ============
train_datagen = ImageDataGenerator(
    rescale=1./255,
    rotation_range=30,
    width_shift_range=0.2,
    height_shift_range=0.2,
    shear_range=0.2,
    zoom_range=0.2,
    horizontal_flip=True,
    fill_mode='nearest'
)

val_datagen = ImageDataGenerator(rescale=1./255)

# ============ LOAD DATA ============
train_generator = train_datagen.flow_from_directory(
    train_dir,
    target_size=IMG_SIZE,
    batch_size=BATCH_SIZE,
    class_mode='categorical'
)

val_generator = val_datagen.flow_from_directory(
    val_dir,
    target_size=IMG_SIZE,
    batch_size=BATCH_SIZE,
    class_mode='categorical'
)

# ============ BUILD MODEL ============
base_model = tf.keras.applications.MobileNetV2(
    input_shape=IMG_SIZE + (3,),
    include_top=False,
    weights='imagenet'
)
base_model.trainable = False  # Freeze base

x = base_model.output
x = GlobalAveragePooling2D()(x)
x = Dense(128, activation='relu')(x)
output = Dense(NUM_CLASSES, activation='softmax')(x)

model = Model(inputs=base_model.input, outputs=output)

# ============ COMPILE MODEL ============
model.compile(optimizer='adam',
              loss='categorical_crossentropy',
              metrics=['accuracy'])

# ============ CALLBACKS ============
checkpoint = ModelCheckpoint("best_model.h5", monitor='val_accuracy',
                             save_best_only=True, verbose=1)

early_stop = EarlyStopping(monitor='val_loss',
                           patience=10,
                           restore_best_weights=True)

# ============ TRAIN ============
history = model.fit(
    train_generator,
    validation_data=val_generator,
    epochs=EPOCHS,
    callbacks=[checkpoint, early_stop]
)

# ============ SAVE FINAL MODEL ============
model.save("final_model.h5")
